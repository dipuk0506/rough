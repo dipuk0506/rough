{
 "cells": [
  {
   "cell_type": "markdown",
   "id": "45c4c44c",
   "metadata": {
    "papermill": {
     "duration": 0.005402,
     "end_time": "2022-12-12T02:19:14.523217",
     "exception": false,
     "start_time": "2022-12-12T02:19:14.517815",
     "status": "completed"
    },
    "tags": []
   },
   "source": [
    "# Training with Background Data\n",
    "\n",
    "## We wrote this code with the help of the following scripts\n"
   ]
  },
  {
   "cell_type": "code",
   "execution_count": 1,
   "id": "c3b25a35",
   "metadata": {
    "execution": {
     "iopub.execute_input": "2022-12-12T02:19:14.541909Z",
     "iopub.status.busy": "2022-12-12T02:19:14.536300Z",
     "iopub.status.idle": "2022-12-12T02:19:16.564267Z",
     "shell.execute_reply": "2022-12-12T02:19:16.563307Z"
    },
    "papermill": {
     "duration": 2.03931,
     "end_time": "2022-12-12T02:19:16.567117",
     "exception": false,
     "start_time": "2022-12-12T02:19:14.527807",
     "status": "completed"
    },
    "tags": []
   },
   "outputs": [],
   "source": [
    "import torch, time, os, copy, random, imageio, os, shutil, numpy, zipfile\n",
    "from torchvision import datasets, models, transforms, utils\n",
    "import matplotlib.pyplot as plt"
   ]
  },
  {
   "cell_type": "code",
   "execution_count": 2,
   "id": "3ac16555",
   "metadata": {
    "_cell_guid": "b1076dfc-b9ad-4769-8c92-a6c4dae69d19",
    "_uuid": "8f2839f25d086af736a60e9eeb907d3b93b6e0e5",
    "execution": {
     "iopub.execute_input": "2022-12-12T02:19:16.577841Z",
     "iopub.status.busy": "2022-12-12T02:19:16.577467Z",
     "iopub.status.idle": "2022-12-12T02:19:19.228218Z",
     "shell.execute_reply": "2022-12-12T02:19:19.227243Z"
    },
    "papermill": {
     "duration": 2.658642,
     "end_time": "2022-12-12T02:19:19.230640",
     "exception": false,
     "start_time": "2022-12-12T02:19:16.571998",
     "status": "completed"
    },
    "tags": []
   },
   "outputs": [],
   "source": [
    "Num_class=10\n",
    "folderlocation = './data/STL10/'\n",
    "\n",
    "def create_dir(folderlocation):\n",
    "    if not os.path.exists(folderlocation):\n",
    "        os.mkdir(folderlocation)\n",
    "    \n",
    "create_dir('./data/')\n",
    "create_dir(folderlocation)\n",
    "for iterf in ['train/', 'valid/', 'test/']:\n",
    "    create_dir(folderlocation + iterf)\n",
    "    for iter1 in range(Num_class+1): \n",
    "        create_dir(folderlocation + iterf + str(iter1)) \n",
    "\n",
    "create_dir('./Background/')\n",
    "with zipfile.ZipFile('/kaggle/input/background-image-data/Background_data.zip', 'r') as zip_ref:\n",
    "    zip_ref.extractall('./Background/')"
   ]
  },
  {
   "cell_type": "code",
   "execution_count": 3,
   "id": "e00e7b51",
   "metadata": {
    "execution": {
     "iopub.execute_input": "2022-12-12T02:19:19.239876Z",
     "iopub.status.busy": "2022-12-12T02:19:19.238979Z",
     "iopub.status.idle": "2022-12-12T02:19:19.640565Z",
     "shell.execute_reply": "2022-12-12T02:19:19.639094Z"
    },
    "papermill": {
     "duration": 0.408506,
     "end_time": "2022-12-12T02:19:19.643150",
     "exception": false,
     "start_time": "2022-12-12T02:19:19.234644",
     "status": "completed"
    },
    "tags": []
   },
   "outputs": [],
   "source": [
    "image_index = 0\n",
    "for dirpath, dirnames, filenames in os.walk('./Background/'):\n",
    "    for fname in filenames:        \n",
    "        if image_index== 500:\n",
    "            shutil.copyfile(path, folderlocation + 'valid/'+str(Num_class)+'/'+str(image_index) + fname[-9:])\n",
    "            shutil.copyfile(path, folderlocation + 'test/'+str(Num_class)+'/'+str(image_index) + fname[-9:])\n",
    "            #break \n",
    "        path = os.path.join(dirpath,fname)\n",
    "        shutil.copyfile(path, folderlocation + 'train/'+str(Num_class)+'/'+str(image_index) + fname[-9:])\n",
    "        image_index = image_index +1\n",
    "    #if image_index== 501:\n",
    "        #break\n",
    "\n"
   ]
  },
  {
   "cell_type": "code",
   "execution_count": 4,
   "id": "2e999166",
   "metadata": {
    "execution": {
     "iopub.execute_input": "2022-12-12T02:19:19.651682Z",
     "iopub.status.busy": "2022-12-12T02:19:19.650133Z",
     "iopub.status.idle": "2022-12-12T02:22:48.463847Z",
     "shell.execute_reply": "2022-12-12T02:22:48.462875Z"
    },
    "papermill": {
     "duration": 208.819953,
     "end_time": "2022-12-12T02:22:48.466221",
     "exception": false,
     "start_time": "2022-12-12T02:19:19.646268",
     "status": "completed"
    },
    "tags": []
   },
   "outputs": [
    {
     "name": "stdout",
     "output_type": "stream",
     "text": [
      "Downloading http://ai.stanford.edu/~acoates/stl10/stl10_binary.tar.gz to /files/stl10_binary.tar.gz\n"
     ]
    },
    {
     "data": {
      "application/vnd.jupyter.widget-view+json": {
       "model_id": "c8f9c0be07cd4c5cbc7f7f4430a2f536",
       "version_major": 2,
       "version_minor": 0
      },
      "text/plain": [
       "  0%|          | 0/2640397119 [00:00<?, ?it/s]"
      ]
     },
     "metadata": {},
     "output_type": "display_data"
    },
    {
     "name": "stdout",
     "output_type": "stream",
     "text": [
      "Extracting /files/stl10_binary.tar.gz to /files/\n",
      "Files already downloaded and verified\n"
     ]
    }
   ],
   "source": [
    "data_train = datasets.STL10('/files/', split='train', download=True,\n",
    "                             transform=transforms.Compose([ ]))\n",
    "        \n",
    "for iter1 in range(len(data_train)):\n",
    "    x, a = data_train[iter1] \n",
    "    if iter1%10 ==0:\n",
    "        imageio.imwrite(folderlocation + 'valid/'+str(a)+'/valid'+str(iter1)+'.png', x)\n",
    "    else:\n",
    "        imageio.imwrite(folderlocation + 'train/'+str(a)+'/train'+str(iter1)+'.png', x) \n",
    "        \n",
    "data_test = datasets.STL10('/files/', split='test', download=True,\n",
    "                             transform=transforms.Compose([ ]))\n",
    "\n",
    "for iter1 in range(len(data_test)):\n",
    "    x, a = data_test[iter1] \n",
    "    imageio.imwrite(folderlocation + 'test/'+str(a)+'/test'+str(iter1)+'.png', x)"
   ]
  },
  {
   "cell_type": "code",
   "execution_count": 5,
   "id": "f330b6d7",
   "metadata": {
    "execution": {
     "iopub.execute_input": "2022-12-12T02:22:48.474599Z",
     "iopub.status.busy": "2022-12-12T02:22:48.474312Z",
     "iopub.status.idle": "2022-12-12T02:22:49.673712Z",
     "shell.execute_reply": "2022-12-12T02:22:49.672774Z"
    },
    "papermill": {
     "duration": 1.206252,
     "end_time": "2022-12-12T02:22:49.676050",
     "exception": false,
     "start_time": "2022-12-12T02:22:48.469798",
     "status": "completed"
    },
    "tags": []
   },
   "outputs": [
    {
     "data": {
      "image/png": "[encoded data removed]",
      "text/plain": [
       "<Figure size 432x288 with 1 Axes>"
      ]
     },
     "metadata": {
      "needs_background": "light"
     },
     "output_type": "display_data"
    }
   ],
   "source": [
    "# Data augmentation and normalization for training\n",
    "# Just normalization for validation\n",
    "data_transforms = {\n",
    "    'train': transforms.Compose([\n",
    "        transforms.Resize((272,272)),\n",
    "        transforms.RandomRotation(15,),\n",
    "        transforms.RandomCrop(256),\n",
    "        transforms.RandomHorizontalFlip(),\n",
    "        transforms.ToTensor(),\n",
    "        transforms.Normalize(mean=[0.507, 0.487, 0.441], std=[0.267, 0.256, 0.276])\n",
    "    ]),\n",
    "    'valid': transforms.Compose([\n",
    "        transforms.Resize((256,256)),\n",
    "        transforms.ToTensor(),\n",
    "        transforms.Normalize(mean=[0.507, 0.487, 0.441], std=[0.267, 0.256, 0.276])\n",
    "    ]),\n",
    "    'test': transforms.Compose([\n",
    "        transforms.Resize((256,256)),\n",
    "        transforms.ToTensor(),\n",
    "        transforms.Normalize(mean=[0.507, 0.487, 0.441], std=[0.267, 0.256, 0.276])\n",
    "    ]),\n",
    "}\n",
    "\n",
    "image_datasets = {x: datasets.ImageFolder(os.path.join(folderlocation, x),\n",
    "                                          data_transforms[x])\n",
    "                  for x in ['train', 'valid', 'test']}\n",
    "dataloaders = {x: torch.utils.data.DataLoader(image_datasets[x], batch_size=24,\n",
    "                                             shuffle=True, num_workers=0)\n",
    "              for x in ['train', 'valid', 'test']}\n",
    "dataset_sizes = {x: len(image_datasets[x]) for x in ['train', 'valid', 'test']}\n",
    "class_names = image_datasets['train'].classes\n",
    "\n",
    "device = torch.device(\"cuda:0\" if torch.cuda.is_available() else \"cpu\")\n",
    "\n",
    "def imshow(inp, title=None):\n",
    "    \"\"\"Imshow for Tensor.\"\"\"\n",
    "    inp = inp.numpy().transpose((1, 2, 0))\n",
    "    mean = numpy.array([0.507, 0.487, 0.441])\n",
    "    std = numpy.array([0.267, 0.256, 0.276])\n",
    "    inp = std * inp + mean\n",
    "    inp = numpy.clip(inp, 0, 1)\n",
    "    plt.imshow(inp)\n",
    "    if title is not None:\n",
    "        plt.title(title)\n",
    "    plt.pause(0.001)  # pause a bit so that plots are updated\n",
    "\n",
    "# Get a batch of training data\n",
    "inputs, classes = next(iter(dataloaders['train']))\n",
    "\n",
    "# Make a grid from batch\n",
    "out = utils.make_grid(inputs)\n",
    "\n",
    "imshow(out)"
   ]
  },
  {
   "cell_type": "code",
   "execution_count": 6,
   "id": "c73a4d5c",
   "metadata": {
    "execution": {
     "iopub.execute_input": "2022-12-12T02:22:49.687611Z",
     "iopub.status.busy": "2022-12-12T02:22:49.687316Z",
     "iopub.status.idle": "2022-12-12T02:23:00.082668Z",
     "shell.execute_reply": "2022-12-12T02:23:00.081665Z"
    },
    "papermill": {
     "duration": 10.404001,
     "end_time": "2022-12-12T02:23:00.085271",
     "exception": false,
     "start_time": "2022-12-12T02:22:49.681270",
     "status": "completed"
    },
    "tags": []
   },
   "outputs": [
    {
     "name": "stderr",
     "output_type": "stream",
     "text": [
      "Downloading: \"https://download.pytorch.org/models/wide_resnet101_2-32ee1156.pth\" to /root/.cache/torch/hub/checkpoints/wide_resnet101_2-32ee1156.pth\n"
     ]
    },
    {
     "data": {
      "application/vnd.jupyter.widget-view+json": {
       "model_id": "9101be8f53d947bf97bf9d11436501e5",
       "version_major": 2,
       "version_minor": 0
      },
      "text/plain": [
       "  0%|          | 0.00/243M [00:00<?, ?B/s]"
      ]
     },
     "metadata": {},
     "output_type": "display_data"
    }
   ],
   "source": [
    "model_ft = models.wide_resnet101_2(pretrained=True)\n",
    "num_ftrs = model_ft.fc.in_features\n",
    "model_ft.fc = torch.nn.Linear(num_ftrs, Num_class+1)\n",
    "\n",
    "def train_model(model, criterion, optimizer, scheduler, num_epochs=25):\n",
    "    since = time.time()\n",
    "\n",
    "    best_model_wts = copy.deepcopy(model.state_dict())\n",
    "    best_acc = 0.0\n",
    "    test_token=0\n",
    "\n",
    "    for epoch in range(num_epochs):\n",
    "        print('Epoch {}/{}'.format(epoch, num_epochs - 1))\n",
    "        print('-' * 10)\n",
    "\n",
    "        # Each epoch has a training and validation phase\n",
    "        for phase in ['train', 'valid', 'test']:\n",
    "            '''\n",
    "            Test when a better validation result is found\n",
    "            '''\n",
    "            if test_token ==0 and phase == 'test':\n",
    "                continue\n",
    "            test_token =0\n",
    "            \n",
    "            if phase == 'train':\n",
    "                model.train()  # Set model to training mode\n",
    "            else:\n",
    "                model.eval()   # Set model to evaluate mode\n",
    "\n",
    "            running_loss = 0.0\n",
    "            running_corrects = 0\n",
    "\n",
    "            # Iterate over data.\n",
    "            for inputs, labels in dataloaders[phase]:\n",
    "                inputs = inputs.to(device)\n",
    "                labels = labels.to(device)\n",
    "\n",
    "                # zero the parameter gradients\n",
    "                optimizer.zero_grad()\n",
    "                \n",
    "                # track history if only in train\n",
    "                with torch.set_grad_enabled(phase == 'train'):\n",
    "                    outputs = model(inputs)\n",
    "                    _, preds = torch.max(outputs, 1)\n",
    "                    loss = criterion(outputs, labels)\n",
    "\n",
    "                    # backward + optimize only if in training phase\n",
    "                    if phase == 'train':\n",
    "                        loss.backward()\n",
    "                        optimizer.step()\n",
    "\n",
    "                # statistics\n",
    "                running_loss += loss.item() * inputs.size(0)\n",
    "                running_corrects += torch.sum(preds == labels.data)\n",
    "            if phase == 'train':\n",
    "                scheduler.step()\n",
    "\n",
    "            epoch_loss = running_loss / dataset_sizes[phase]\n",
    "            epoch_acc = running_corrects.double() / dataset_sizes[phase]\n",
    "\n",
    "            print('{} Loss: {:.4f} Acc: {:.4f}'.format(\n",
    "                phase, epoch_loss, epoch_acc))\n",
    "\n",
    "            # deep copy the model\n",
    "            if phase == 'valid' and epoch_acc > best_acc:\n",
    "                best_acc = epoch_acc\n",
    "                best_model_wts = copy.deepcopy(model.state_dict())\n",
    "                test_token =1\n",
    "        print()\n",
    "\n",
    "    time_elapsed = time.time() - since\n",
    "    print('Training complete in {:.0f}m {:.0f}s'.format(\n",
    "        time_elapsed // 60, time_elapsed % 60))\n",
    "    print('Best val Acc: {:4f}'.format(best_acc))\n",
    "\n",
    "    # load best model weights\n",
    "    model.load_state_dict(best_model_wts)\n",
    "    return model"
   ]
  },
  {
   "cell_type": "code",
   "execution_count": 7,
   "id": "b606c8fc",
   "metadata": {
    "execution": {
     "iopub.execute_input": "2022-12-12T02:23:00.096628Z",
     "iopub.status.busy": "2022-12-12T02:23:00.096336Z",
     "iopub.status.idle": "2022-12-12T03:46:54.509140Z",
     "shell.execute_reply": "2022-12-12T03:46:54.507575Z"
    },
    "papermill": {
     "duration": 5034.422132,
     "end_time": "2022-12-12T03:46:54.512508",
     "exception": false,
     "start_time": "2022-12-12T02:23:00.090376",
     "status": "completed"
    },
    "tags": []
   },
   "outputs": [
    {
     "name": "stdout",
     "output_type": "stream",
     "text": [
      "Epoch 0/19\n",
      "----------\n",
      "train Loss: 0.5044 Acc: 0.8687\n",
      "valid Loss: 0.1449 Acc: 0.9581\n",
      "test Loss: 0.1005 Acc: 0.9743\n",
      "\n",
      "Epoch 1/19\n",
      "----------\n",
      "train Loss: 0.0983 Acc: 0.9745\n",
      "valid Loss: 0.0937 Acc: 0.9721\n",
      "test Loss: 0.0751 Acc: 0.9776\n",
      "\n",
      "Epoch 2/19\n",
      "----------\n",
      "train Loss: 0.0559 Acc: 0.9851\n",
      "valid Loss: 0.0773 Acc: 0.9760\n",
      "test Loss: 0.0612 Acc: 0.9811\n",
      "\n",
      "Epoch 3/19\n",
      "----------\n",
      "train Loss: 0.0436 Acc: 0.9880\n",
      "valid Loss: 0.0923 Acc: 0.9741\n",
      "\n",
      "Epoch 4/19\n",
      "----------\n",
      "train Loss: 0.0301 Acc: 0.9932\n",
      "valid Loss: 0.0869 Acc: 0.9800\n",
      "test Loss: 0.0616 Acc: 0.9801\n",
      "\n",
      "Epoch 5/19\n",
      "----------\n",
      "train Loss: 0.0217 Acc: 0.9951\n",
      "valid Loss: 0.0764 Acc: 0.9780\n",
      "\n",
      "Epoch 6/19\n",
      "----------\n",
      "train Loss: 0.0154 Acc: 0.9972\n",
      "valid Loss: 0.0743 Acc: 0.9780\n",
      "\n",
      "Epoch 7/19\n",
      "----------\n",
      "train Loss: 0.0143 Acc: 0.9959\n",
      "valid Loss: 0.0740 Acc: 0.9820\n",
      "test Loss: 0.0594 Acc: 0.9815\n",
      "\n",
      "Epoch 8/19\n",
      "----------\n",
      "train Loss: 0.0122 Acc: 0.9983\n",
      "valid Loss: 0.0773 Acc: 0.9820\n",
      "\n",
      "Epoch 9/19\n",
      "----------\n",
      "train Loss: 0.0107 Acc: 0.9979\n",
      "valid Loss: 0.0714 Acc: 0.9840\n",
      "test Loss: 0.0566 Acc: 0.9823\n",
      "\n",
      "Epoch 10/19\n",
      "----------\n",
      "train Loss: 0.0105 Acc: 0.9980\n",
      "valid Loss: 0.0841 Acc: 0.9780\n",
      "\n",
      "Epoch 11/19\n",
      "----------\n",
      "train Loss: 0.0115 Acc: 0.9972\n",
      "valid Loss: 0.0786 Acc: 0.9800\n",
      "\n",
      "Epoch 12/19\n",
      "----------\n",
      "train Loss: 0.0096 Acc: 0.9981\n",
      "valid Loss: 0.0801 Acc: 0.9780\n",
      "\n",
      "Epoch 13/19\n",
      "----------\n",
      "train Loss: 0.0099 Acc: 0.9981\n",
      "valid Loss: 0.0768 Acc: 0.9820\n",
      "\n",
      "Epoch 14/19\n",
      "----------\n",
      "train Loss: 0.0091 Acc: 0.9984\n",
      "valid Loss: 0.0769 Acc: 0.9820\n",
      "\n",
      "Epoch 15/19\n",
      "----------\n",
      "train Loss: 0.0090 Acc: 0.9983\n",
      "valid Loss: 0.0767 Acc: 0.9800\n",
      "\n",
      "Epoch 16/19\n",
      "----------\n",
      "train Loss: 0.0090 Acc: 0.9984\n",
      "valid Loss: 0.0799 Acc: 0.9860\n",
      "test Loss: 0.0572 Acc: 0.9826\n",
      "\n",
      "Epoch 17/19\n",
      "----------\n",
      "train Loss: 0.0099 Acc: 0.9977\n",
      "valid Loss: 0.0737 Acc: 0.9800\n",
      "\n",
      "Epoch 18/19\n",
      "----------\n",
      "train Loss: 0.0098 Acc: 0.9981\n",
      "valid Loss: 0.0782 Acc: 0.9820\n",
      "\n",
      "Epoch 19/19\n",
      "----------\n",
      "train Loss: 0.0093 Acc: 0.9981\n",
      "valid Loss: 0.0784 Acc: 0.9800\n",
      "\n",
      "Training complete in 83m 51s\n",
      "Best val Acc: 0.986028\n"
     ]
    }
   ],
   "source": [
    "model_ft = model_ft.to(device)\n",
    "criterion = torch.nn.CrossEntropyLoss()\n",
    "\n",
    "# Observe that all parameters are being optimized\n",
    "optimizer_ft = torch.optim.SGD(model_ft.parameters(), lr=0.001, momentum=0.9)\n",
    "\n",
    "# Decay LR by a factor of 0.1 every 7 epochs\n",
    "exp_lr_scheduler = torch.optim.lr_scheduler.StepLR(optimizer_ft, step_size=7, gamma=0.1)\n",
    "\n",
    "model_ft = train_model(model_ft, criterion, optimizer_ft, exp_lr_scheduler,\n",
    "                       num_epochs=20) # num_epochs=20 default"
   ]
  },
  {
   "cell_type": "markdown",
   "id": "cd450a1f",
   "metadata": {
    "papermill": {
     "duration": 0.009845,
     "end_time": "2022-12-12T03:46:54.533791",
     "exception": false,
     "start_time": "2022-12-12T03:46:54.523946",
     "status": "completed"
    },
    "tags": []
   },
   "source": [
    "# Save Model"
   ]
  },
  {
   "cell_type": "code",
   "execution_count": 8,
   "id": "514d7eab",
   "metadata": {
    "execution": {
     "iopub.execute_input": "2022-12-12T03:46:54.556080Z",
     "iopub.status.busy": "2022-12-12T03:46:54.555696Z",
     "iopub.status.idle": "2022-12-12T03:46:55.456047Z",
     "shell.execute_reply": "2022-12-12T03:46:55.454846Z"
    },
    "papermill": {
     "duration": 0.914167,
     "end_time": "2022-12-12T03:46:55.458421",
     "exception": false,
     "start_time": "2022-12-12T03:46:54.544254",
     "status": "completed"
    },
    "tags": []
   },
   "outputs": [
    {
     "data": {
      "text/plain": [
       "'\\n#Guideline for loading model in future \\ndevice = torch.device(\"cuda:0\" if torch.cuda.is_available() else \"cpu\")\\nmodel = models.wide_resnet101_2(pretrained=False) \\n        #We only need the structure to transfer parameters\\n        \\nnum_ftrs = model.fc.in_features\\nmodel.fc = nn.Linear(num_ftrs, Num_class)\\n\\nmodel.load_state_dict(torch.load(PATH2, map_location=device))\\n'"
      ]
     },
     "execution_count": 8,
     "metadata": {},
     "output_type": "execute_result"
    }
   ],
   "source": [
    "PATH = \"./model_background.pt\"\n",
    "torch.save(model_ft.state_dict(), PATH)\n",
    "\n",
    "'''\n",
    "#Guideline for loading model in future \n",
    "device = torch.device(\"cuda:0\" if torch.cuda.is_available() else \"cpu\")\n",
    "model = models.wide_resnet101_2(pretrained=False) \n",
    "        #We only need the structure to transfer parameters\n",
    "        \n",
    "num_ftrs = model.fc.in_features\n",
    "model.fc = nn.Linear(num_ftrs, Num_class)\n",
    "\n",
    "model.load_state_dict(torch.load(PATH2, map_location=device))\n",
    "'''"
   ]
  },
  {
   "cell_type": "markdown",
   "id": "80df411a",
   "metadata": {
    "papermill": {
     "duration": 0.006883,
     "end_time": "2022-12-12T03:46:55.472774",
     "exception": false,
     "start_time": "2022-12-12T03:46:55.465891",
     "status": "completed"
    },
    "tags": []
   },
   "source": [
    "# Delete Downloaded Data\n",
    "### Notebook with basic STL-10 data is saving the STL-10 data.\n",
    "### We can get background data from the background dataset."
   ]
  },
  {
   "cell_type": "code",
   "execution_count": 9,
   "id": "d70e5a7d",
   "metadata": {
    "execution": {
     "iopub.execute_input": "2022-12-12T03:46:55.488215Z",
     "iopub.status.busy": "2022-12-12T03:46:55.487400Z",
     "iopub.status.idle": "2022-12-12T03:46:56.111476Z",
     "shell.execute_reply": "2022-12-12T03:46:56.110476Z"
    },
    "papermill": {
     "duration": 0.634328,
     "end_time": "2022-12-12T03:46:56.113989",
     "exception": false,
     "start_time": "2022-12-12T03:46:55.479661",
     "status": "completed"
    },
    "tags": []
   },
   "outputs": [],
   "source": [
    "shutil.rmtree('./data/')\n",
    "shutil.rmtree('./Background/')"
   ]
  }
 ],
 "metadata": {
  "kernelspec": {
   "display_name": "Python 3",
   "language": "python",
   "name": "python3"
  },
  "language_info": {
   "codemirror_mode": {
    "name": "ipython",
    "version": 3
   },
   "file_extension": ".py",
   "mimetype": "text/x-python",
   "name": "python",
   "nbconvert_exporter": "python",
   "pygments_lexer": "ipython3",
   "version": "3.7.12"
  },
  "papermill": {
   "default_parameters": {},
   "duration": 5270.892732,
   "end_time": "2022-12-12T03:46:57.752284",
   "environment_variables": {},
   "exception": null,
   "input_path": "__notebook__.ipynb",
   "output_path": "__notebook__.ipynb",
   "parameters": {},
   "start_time": "2022-12-12T02:19:06.859552",
   "version": "2.3.4"
  },
  "widgets": {
   "application/vnd.jupyter.widget-state+json": {
    "state": {
     "061a8970044c447e88ea4df784bab26b": {
      "model_module": "@jupyter-widgets/controls",
      "model_module_version": "1.5.0",
      "model_name": "DescriptionStyleModel",
      "state": {
       "_model_module": "@jupyter-widgets/controls",
       "_model_module_version": "1.5.0",
       "_model_name": "DescriptionStyleModel",
       "_view_count": null,
       "_view_module": "@jupyter-widgets/base",
       "_view_module_version": "1.2.0",
       "_view_name": "StyleView",
       "description_width": ""
      }
     },
     "276c635b8d3e4459a4650fce7407594f": {
      "model_module": "@jupyter-widgets/base",
      "model_module_version": "1.2.0",
      "model_name": "LayoutModel",
      "state": {
       "_model_module": "@jupyter-widgets/base",
       "_model_module_version": "1.2.0",
       "_model_name": "LayoutModel",
       "_view_count": null,
       "_view_module": "@jupyter-widgets/base",
       "_view_module_version": "1.2.0",
       "_view_name": "LayoutView",
       "align_content": null,
       "align_items": null,
       "align_self": null,
       "border": null,
       "bottom": null,
       "display": null,
       "flex": null,
       "flex_flow": null,
       "grid_area": null,
       "grid_auto_columns": null,
       "grid_auto_flow": null,
       "grid_auto_rows": null,
       "grid_column": null,
       "grid_gap": null,
       "grid_row": null,
       "grid_template_areas": null,
       "grid_template_columns": null,
       "grid_template_rows": null,
       "height": null,
       "justify_content": null,
       "justify_items": null,
       "left": null,
       "margin": null,
       "max_height": null,
       "max_width": null,
       "min_height": null,
       "min_width": null,
       "object_fit": null,
       "object_position": null,
       "order": null,
       "overflow": null,
       "overflow_x": null,
       "overflow_y": null,
       "padding": null,
       "right": null,
       "top": null,
       "visibility": null,
       "width": null
      }
     },
     "367264d40b6f4709858b51811fb34d7e": {
      "model_module": "@jupyter-widgets/base",
      "model_module_version": "1.2.0",
      "model_name": "LayoutModel",
      "state": {
       "_model_module": "@jupyter-widgets/base",
       "_model_module_version": "1.2.0",
       "_model_name": "LayoutModel",
       "_view_count": null,
       "_view_module": "@jupyter-widgets/base",
       "_view_module_version": "1.2.0",
       "_view_name": "LayoutView",
       "align_content": null,
       "align_items": null,
       "align_self": null,
       "border": null,
       "bottom": null,
       "display": null,
       "flex": null,
       "flex_flow": null,
       "grid_area": null,
       "grid_auto_columns": null,
       "grid_auto_flow": null,
       "grid_auto_rows": null,
       "grid_column": null,
       "grid_gap": null,
       "grid_row": null,
       "grid_template_areas": null,
       "grid_template_columns": null,
       "grid_template_rows": null,
       "height": null,
       "justify_content": null,
       "justify_items": null,
       "left": null,
       "margin": null,
       "max_height": null,
       "max_width": null,
       "min_height": null,
       "min_width": null,
       "object_fit": null,
       "object_position": null,
       "order": null,
       "overflow": null,
       "overflow_x": null,
       "overflow_y": null,
       "padding": null,
       "right": null,
       "top": null,
       "visibility": null,
       "width": null
      }
     },
     "3ac1bf14eafe4a4cb6f996b17843ad42": {
      "model_module": "@jupyter-widgets/controls",
      "model_module_version": "1.5.0",
      "model_name": "HTMLModel",
      "state": {
       "_dom_classes": [],
       "_model_module": "@jupyter-widgets/controls",
       "_model_module_version": "1.5.0",
       "_model_name": "HTMLModel",
       "_view_count": null,
       "_view_module": "@jupyter-widgets/controls",
       "_view_module_version": "1.5.0",
       "_view_name": "HTMLView",
       "description": "",
       "description_tooltip": null,
       "layout": "IPY_MODEL_367264d40b6f4709858b51811fb34d7e",
       "placeholder": "​",
       "style": "IPY_MODEL_061a8970044c447e88ea4df784bab26b",
       "value": " 2640397312/? [01:53&lt;00:00, 16944535.17it/s]"
      }
     },
     "3e054dd36b3e4ebab0d1a5a1131050da": {
      "model_module": "@jupyter-widgets/controls",
      "model_module_version": "1.5.0",
      "model_name": "ProgressStyleModel",
      "state": {
       "_model_module": "@jupyter-widgets/controls",
       "_model_module_version": "1.5.0",
       "_model_name": "ProgressStyleModel",
       "_view_count": null,
       "_view_module": "@jupyter-widgets/base",
       "_view_module_version": "1.2.0",
       "_view_name": "StyleView",
       "bar_color": null,
       "description_width": ""
      }
     },
     "47a1db446bd54227ae96be7ba42c7f01": {
      "model_module": "@jupyter-widgets/base",
      "model_module_version": "1.2.0",
      "model_name": "LayoutModel",
      "state": {
       "_model_module": "@jupyter-widgets/base",
       "_model_module_version": "1.2.0",
       "_model_name": "LayoutModel",
       "_view_count": null,
       "_view_module": "@jupyter-widgets/base",
       "_view_module_version": "1.2.0",
       "_view_name": "LayoutView",
       "align_content": null,
       "align_items": null,
       "align_self": null,
       "border": null,
       "bottom": null,
       "display": null,
       "flex": null,
       "flex_flow": null,
       "grid_area": null,
       "grid_auto_columns": null,
       "grid_auto_flow": null,
       "grid_auto_rows": null,
       "grid_column": null,
       "grid_gap": null,
       "grid_row": null,
       "grid_template_areas": null,
       "grid_template_columns": null,
       "grid_template_rows": null,
       "height": null,
       "justify_content": null,
       "justify_items": null,
       "left": null,
       "margin": null,
       "max_height": null,
       "max_width": null,
       "min_height": null,
       "min_width": null,
       "object_fit": null,
       "object_position": null,
       "order": null,
       "overflow": null,
       "overflow_x": null,
       "overflow_y": null,
       "padding": null,
       "right": null,
       "top": null,
       "visibility": null,
       "width": null
      }
     },
     "4b5e792ef4274031ace63bbca6f10519": {
      "model_module": "@jupyter-widgets/base",
      "model_module_version": "1.2.0",
      "model_name": "LayoutModel",
      "state": {
       "_model_module": "@jupyter-widgets/base",
       "_model_module_version": "1.2.0",
       "_model_name": "LayoutModel",
       "_view_count": null,
       "_view_module": "@jupyter-widgets/base",
       "_view_module_version": "1.2.0",
       "_view_name": "LayoutView",
       "align_content": null,
       "align_items": null,
       "align_self": null,
       "border": null,
       "bottom": null,
       "display": null,
       "flex": null,
       "flex_flow": null,
       "grid_area": null,
       "grid_auto_columns": null,
       "grid_auto_flow": null,
       "grid_auto_rows": null,
       "grid_column": null,
       "grid_gap": null,
       "grid_row": null,
       "grid_template_areas": null,
       "grid_template_columns": null,
       "grid_template_rows": null,
       "height": null,
       "justify_content": null,
       "justify_items": null,
       "left": null,
       "margin": null,
       "max_height": null,
       "max_width": null,
       "min_height": null,
       "min_width": null,
       "object_fit": null,
       "object_position": null,
       "order": null,
       "overflow": null,
       "overflow_x": null,
       "overflow_y": null,
       "padding": null,
       "right": null,
       "top": null,
       "visibility": null,
       "width": null
      }
     },
     "53aa1cd11cb44cdeb7a88b15c9c35361": {
      "model_module": "@jupyter-widgets/controls",
      "model_module_version": "1.5.0",
      "model_name": "ProgressStyleModel",
      "state": {
       "_model_module": "@jupyter-widgets/controls",
       "_model_module_version": "1.5.0",
       "_model_name": "ProgressStyleModel",
       "_view_count": null,
       "_view_module": "@jupyter-widgets/base",
       "_view_module_version": "1.2.0",
       "_view_name": "StyleView",
       "bar_color": null,
       "description_width": ""
      }
     },
     "737808c8f97441c6a5c6ac1a5d73027f": {
      "model_module": "@jupyter-widgets/controls",
      "model_module_version": "1.5.0",
      "model_name": "HTMLModel",
      "state": {
       "_dom_classes": [],
       "_model_module": "@jupyter-widgets/controls",
       "_model_module_version": "1.5.0",
       "_model_name": "HTMLModel",
       "_view_count": null,
       "_view_module": "@jupyter-widgets/controls",
       "_view_module_version": "1.5.0",
       "_view_name": "HTMLView",
       "description": "",
       "description_tooltip": null,
       "layout": "IPY_MODEL_47a1db446bd54227ae96be7ba42c7f01",
       "placeholder": "​",
       "style": "IPY_MODEL_cb60bc91b154414e8e0a435740353a57",
       "value": " 243M/243M [00:07&lt;00:00, 55.4MB/s]"
      }
     },
     "78b177a8012448d1ac954f64ed290d7e": {
      "model_module": "@jupyter-widgets/base",
      "model_module_version": "1.2.0",
      "model_name": "LayoutModel",
      "state": {
       "_model_module": "@jupyter-widgets/base",
       "_model_module_version": "1.2.0",
       "_model_name": "LayoutModel",
       "_view_count": null,
       "_view_module": "@jupyter-widgets/base",
       "_view_module_version": "1.2.0",
       "_view_name": "LayoutView",
       "align_content": null,
       "align_items": null,
       "align_self": null,
       "border": null,
       "bottom": null,
       "display": null,
       "flex": null,
       "flex_flow": null,
       "grid_area": null,
       "grid_auto_columns": null,
       "grid_auto_flow": null,
       "grid_auto_rows": null,
       "grid_column": null,
       "grid_gap": null,
       "grid_row": null,
       "grid_template_areas": null,
       "grid_template_columns": null,
       "grid_template_rows": null,
       "height": null,
       "justify_content": null,
       "justify_items": null,
       "left": null,
       "margin": null,
       "max_height": null,
       "max_width": null,
       "min_height": null,
       "min_width": null,
       "object_fit": null,
       "object_position": null,
       "order": null,
       "overflow": null,
       "overflow_x": null,
       "overflow_y": null,
       "padding": null,
       "right": null,
       "top": null,
       "visibility": null,
       "width": null
      }
     },
     "7da8c15e65a34c43b32064dae235307f": {
      "model_module": "@jupyter-widgets/base",
      "model_module_version": "1.2.0",
      "model_name": "LayoutModel",
      "state": {
       "_model_module": "@jupyter-widgets/base",
       "_model_module_version": "1.2.0",
       "_model_name": "LayoutModel",
       "_view_count": null,
       "_view_module": "@jupyter-widgets/base",
       "_view_module_version": "1.2.0",
       "_view_name": "LayoutView",
       "align_content": null,
       "align_items": null,
       "align_self": null,
       "border": null,
       "bottom": null,
       "display": null,
       "flex": null,
       "flex_flow": null,
       "grid_area": null,
       "grid_auto_columns": null,
       "grid_auto_flow": null,
       "grid_auto_rows": null,
       "grid_column": null,
       "grid_gap": null,
       "grid_row": null,
       "grid_template_areas": null,
       "grid_template_columns": null,
       "grid_template_rows": null,
       "height": null,
       "justify_content": null,
       "justify_items": null,
       "left": null,
       "margin": null,
       "max_height": null,
       "max_width": null,
       "min_height": null,
       "min_width": null,
       "object_fit": null,
       "object_position": null,
       "order": null,
       "overflow": null,
       "overflow_x": null,
       "overflow_y": null,
       "padding": null,
       "right": null,
       "top": null,
       "visibility": null,
       "width": null
      }
     },
     "89dbdeb41c9740aa8fbf3f0fe2750693": {
      "model_module": "@jupyter-widgets/controls",
      "model_module_version": "1.5.0",
      "model_name": "FloatProgressModel",
      "state": {
       "_dom_classes": [],
       "_model_module": "@jupyter-widgets/controls",
       "_model_module_version": "1.5.0",
       "_model_name": "FloatProgressModel",
       "_view_count": null,
       "_view_module": "@jupyter-widgets/controls",
       "_view_module_version": "1.5.0",
       "_view_name": "ProgressView",
       "bar_style": "success",
       "description": "",
       "description_tooltip": null,
       "layout": "IPY_MODEL_4b5e792ef4274031ace63bbca6f10519",
       "max": 2640397119.0,
       "min": 0.0,
       "orientation": "horizontal",
       "style": "IPY_MODEL_53aa1cd11cb44cdeb7a88b15c9c35361",
       "value": 2640397119.0
      }
     },
     "9101be8f53d947bf97bf9d11436501e5": {
      "model_module": "@jupyter-widgets/controls",
      "model_module_version": "1.5.0",
      "model_name": "HBoxModel",
      "state": {
       "_dom_classes": [],
       "_model_module": "@jupyter-widgets/controls",
       "_model_module_version": "1.5.0",
       "_model_name": "HBoxModel",
       "_view_count": null,
       "_view_module": "@jupyter-widgets/controls",
       "_view_module_version": "1.5.0",
       "_view_name": "HBoxView",
       "box_style": "",
       "children": [
        "IPY_MODEL_b913a0300f634162a6b6a6f1fc13e4b8",
        "IPY_MODEL_9e5b7570e4734a01bc6c07cf903afb73",
        "IPY_MODEL_737808c8f97441c6a5c6ac1a5d73027f"
       ],
       "layout": "IPY_MODEL_276c635b8d3e4459a4650fce7407594f"
      }
     },
     "9e5b7570e4734a01bc6c07cf903afb73": {
      "model_module": "@jupyter-widgets/controls",
      "model_module_version": "1.5.0",
      "model_name": "FloatProgressModel",
      "state": {
       "_dom_classes": [],
       "_model_module": "@jupyter-widgets/controls",
       "_model_module_version": "1.5.0",
       "_model_name": "FloatProgressModel",
       "_view_count": null,
       "_view_module": "@jupyter-widgets/controls",
       "_view_module_version": "1.5.0",
       "_view_name": "ProgressView",
       "bar_style": "success",
       "description": "",
       "description_tooltip": null,
       "layout": "IPY_MODEL_7da8c15e65a34c43b32064dae235307f",
       "max": 254695146.0,
       "min": 0.0,
       "orientation": "horizontal",
       "style": "IPY_MODEL_3e054dd36b3e4ebab0d1a5a1131050da",
       "value": 254695146.0
      }
     },
     "b913a0300f634162a6b6a6f1fc13e4b8": {
      "model_module": "@jupyter-widgets/controls",
      "model_module_version": "1.5.0",
      "model_name": "HTMLModel",
      "state": {
       "_dom_classes": [],
       "_model_module": "@jupyter-widgets/controls",
       "_model_module_version": "1.5.0",
       "_model_name": "HTMLModel",
       "_view_count": null,
       "_view_module": "@jupyter-widgets/controls",
       "_view_module_version": "1.5.0",
       "_view_name": "HTMLView",
       "description": "",
       "description_tooltip": null,
       "layout": "IPY_MODEL_d67f1c82456b4335b406cc64694a2a3a",
       "placeholder": "​",
       "style": "IPY_MODEL_fd93206ad1cd4778b9204c9824b57f30",
       "value": "100%"
      }
     },
     "c6087a9df3384ef9a7a1a5a2027cf58e": {
      "model_module": "@jupyter-widgets/base",
      "model_module_version": "1.2.0",
      "model_name": "LayoutModel",
      "state": {
       "_model_module": "@jupyter-widgets/base",
       "_model_module_version": "1.2.0",
       "_model_name": "LayoutModel",
       "_view_count": null,
       "_view_module": "@jupyter-widgets/base",
       "_view_module_version": "1.2.0",
       "_view_name": "LayoutView",
       "align_content": null,
       "align_items": null,
       "align_self": null,
       "border": null,
       "bottom": null,
       "display": null,
       "flex": null,
       "flex_flow": null,
       "grid_area": null,
       "grid_auto_columns": null,
       "grid_auto_flow": null,
       "grid_auto_rows": null,
       "grid_column": null,
       "grid_gap": null,
       "grid_row": null,
       "grid_template_areas": null,
       "grid_template_columns": null,
       "grid_template_rows": null,
       "height": null,
       "justify_content": null,
       "justify_items": null,
       "left": null,
       "margin": null,
       "max_height": null,
       "max_width": null,
       "min_height": null,
       "min_width": null,
       "object_fit": null,
       "object_position": null,
       "order": null,
       "overflow": null,
       "overflow_x": null,
       "overflow_y": null,
       "padding": null,
       "right": null,
       "top": null,
       "visibility": null,
       "width": null
      }
     },
     "c8f9c0be07cd4c5cbc7f7f4430a2f536": {
      "model_module": "@jupyter-widgets/controls",
      "model_module_version": "1.5.0",
      "model_name": "HBoxModel",
      "state": {
       "_dom_classes": [],
       "_model_module": "@jupyter-widgets/controls",
       "_model_module_version": "1.5.0",
       "_model_name": "HBoxModel",
       "_view_count": null,
       "_view_module": "@jupyter-widgets/controls",
       "_view_module_version": "1.5.0",
       "_view_name": "HBoxView",
       "box_style": "",
       "children": [
        "IPY_MODEL_e94b2a0e1052486f8e87c6ec176ca698",
        "IPY_MODEL_89dbdeb41c9740aa8fbf3f0fe2750693",
        "IPY_MODEL_3ac1bf14eafe4a4cb6f996b17843ad42"
       ],
       "layout": "IPY_MODEL_c6087a9df3384ef9a7a1a5a2027cf58e"
      }
     },
     "cb60bc91b154414e8e0a435740353a57": {
      "model_module": "@jupyter-widgets/controls",
      "model_module_version": "1.5.0",
      "model_name": "DescriptionStyleModel",
      "state": {
       "_model_module": "@jupyter-widgets/controls",
       "_model_module_version": "1.5.0",
       "_model_name": "DescriptionStyleModel",
       "_view_count": null,
       "_view_module": "@jupyter-widgets/base",
       "_view_module_version": "1.2.0",
       "_view_name": "StyleView",
       "description_width": ""
      }
     },
     "d67f1c82456b4335b406cc64694a2a3a": {
      "model_module": "@jupyter-widgets/base",
      "model_module_version": "1.2.0",
      "model_name": "LayoutModel",
      "state": {
       "_model_module": "@jupyter-widgets/base",
       "_model_module_version": "1.2.0",
       "_model_name": "LayoutModel",
       "_view_count": null,
       "_view_module": "@jupyter-widgets/base",
       "_view_module_version": "1.2.0",
       "_view_name": "LayoutView",
       "align_content": null,
       "align_items": null,
       "align_self": null,
       "border": null,
       "bottom": null,
       "display": null,
       "flex": null,
       "flex_flow": null,
       "grid_area": null,
       "grid_auto_columns": null,
       "grid_auto_flow": null,
       "grid_auto_rows": null,
       "grid_column": null,
       "grid_gap": null,
       "grid_row": null,
       "grid_template_areas": null,
       "grid_template_columns": null,
       "grid_template_rows": null,
       "height": null,
       "justify_content": null,
       "justify_items": null,
       "left": null,
       "margin": null,
       "max_height": null,
       "max_width": null,
       "min_height": null,
       "min_width": null,
       "object_fit": null,
       "object_position": null,
       "order": null,
       "overflow": null,
       "overflow_x": null,
       "overflow_y": null,
       "padding": null,
       "right": null,
       "top": null,
       "visibility": null,
       "width": null
      }
     },
     "e94b2a0e1052486f8e87c6ec176ca698": {
      "model_module": "@jupyter-widgets/controls",
      "model_module_version": "1.5.0",
      "model_name": "HTMLModel",
      "state": {
       "_dom_classes": [],
       "_model_module": "@jupyter-widgets/controls",
       "_model_module_version": "1.5.0",
       "_model_name": "HTMLModel",
       "_view_count": null,
       "_view_module": "@jupyter-widgets/controls",
       "_view_module_version": "1.5.0",
       "_view_name": "HTMLView",
       "description": "",
       "description_tooltip": null,
       "layout": "IPY_MODEL_78b177a8012448d1ac954f64ed290d7e",
       "placeholder": "​",
       "style": "IPY_MODEL_fa0a2010a28a4f15be9ad3bd24749627",
       "value": ""
      }
     },
     "fa0a2010a28a4f15be9ad3bd24749627": {
      "model_module": "@jupyter-widgets/controls",
      "model_module_version": "1.5.0",
      "model_name": "DescriptionStyleModel",
      "state": {
       "_model_module": "@jupyter-widgets/controls",
       "_model_module_version": "1.5.0",
       "_model_name": "DescriptionStyleModel",
       "_view_count": null,
       "_view_module": "@jupyter-widgets/base",
       "_view_module_version": "1.2.0",
       "_view_name": "StyleView",
       "description_width": ""
      }
     },
     "fd93206ad1cd4778b9204c9824b57f30": {
      "model_module": "@jupyter-widgets/controls",
      "model_module_version": "1.5.0",
      "model_name": "DescriptionStyleModel",
      "state": {
       "_model_module": "@jupyter-widgets/controls",
       "_model_module_version": "1.5.0",
       "_model_name": "DescriptionStyleModel",
       "_view_count": null,
       "_view_module": "@jupyter-widgets/base",
       "_view_module_version": "1.2.0",
       "_view_name": "StyleView",
       "description_width": ""
      }
     }
    },
    "version_major": 2,
    "version_minor": 0
   }
  }
 },
 "nbformat": 4,
 "nbformat_minor": 5
}
